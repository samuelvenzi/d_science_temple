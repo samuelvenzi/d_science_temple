{
 "cells": [
  {
   "cell_type": "code",
   "execution_count": 3,
   "metadata": {},
   "outputs": [],
   "source": [
    "import pandas as pd\n",
    "import numpy as np\n",
    "import matplotlib.pyplot as plt\n",
    "from datetime import datetime\n",
    "\n",
    "import warnings\n",
    "warnings.filterwarnings(\"ignore\")\n",
    "\n",
    "import numpy as np\n",
    "import pandas as pd\n",
    "import statsmodels.api as sm\n",
    "from scipy import stats\n",
    "from sklearn.metrics import mean_squared_error\n",
    "from math import sqrt\n",
    "from random import randint\n",
    "from keras.models import Sequential\n",
    "from keras.layers import Dense\n",
    "from keras.layers import LSTM\n",
    "from keras.layers import GRU\n",
    "from keras.callbacks import EarlyStopping\n",
    "from keras import initializers\n",
    "from matplotlib import pyplot\n",
    "from datetime import datetime\n",
    "from matplotlib import pyplot as plt\n",
    "from sklearn.preprocessing import MinMaxScaler\n",
    "import locale\n",
    "\n",
    "bitcoin_data = pd.read_csv('cryptocurrencypricehistory/ripple_price.csv', header = 0, parse_dates=['Date'])\n",
    "bitcoin_data['Year'] = bitcoin_data['Date'].apply(lambda x: x.year)\n",
    "bitcoin_data['Month'] = bitcoin_data['Date'].apply(lambda x: x.month)\n",
    "bitcoin_data = bitcoin_data.loc[bitcoin_data['Date'] > datetime(2016,1,1)]\n",
    "bitcoin_data.head(3)\n",
    "bitcoin_data = bitcoin_data.sort_values('Date')\n",
    "bitcoin_data = bitcoin_data.set_index('Date')\n",
    "\n",
    "locale.setlocale( locale.LC_ALL, 'en_US.UTF-8' ) \n",
    "\n",
    "for i in range(len(bitcoin_data['Market Cap'])):\n",
    "    bitcoin_data['Market Cap'][i] = locale.atof(bitcoin_data['Market Cap'][i])\n",
    "    bitcoin_data['Volume'][i] = locale.atof(bitcoin_data['Volume'][i])\n",
    "\n",
    "bitcoin_data.to_csv('ripple.csv')"
   ]
  },
  {
   "cell_type": "code",
   "execution_count": null,
   "metadata": {
    "collapsed": true
   },
   "outputs": [],
   "source": []
  }
 ],
 "metadata": {
  "kernelspec": {
   "display_name": "Python 2",
   "language": "python",
   "name": "python2"
  },
  "language_info": {
   "codemirror_mode": {
    "name": "ipython",
    "version": 2
   },
   "file_extension": ".py",
   "mimetype": "text/x-python",
   "name": "python",
   "nbconvert_exporter": "python",
   "pygments_lexer": "ipython2",
   "version": "2.7.14"
  }
 },
 "nbformat": 4,
 "nbformat_minor": 2
}
