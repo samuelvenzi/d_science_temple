{
 "cells": [
  {
   "cell_type": "code",
   "execution_count": 15,
   "metadata": {},
   "outputs": [],
   "source": [
    "import pandas as pd\n",
    "import numpy as np\n",
    "import matplotlib.pyplot as plt\n",
    "from datetime import datetime\n",
    "\n",
    "import warnings\n",
    "warnings.filterwarnings(\"ignore\")\n",
    "\n",
    "import numpy as np\n",
    "import pandas as pd\n",
    "import statsmodels.api as sm\n",
    "from scipy import stats\n",
    "from sklearn.metrics import mean_squared_error\n",
    "from math import sqrt\n",
    "from random import randint\n",
    "from keras.models import Sequential\n",
    "from keras.layers import Dense\n",
    "from keras.layers import LSTM\n",
    "from keras.layers import GRU\n",
    "from keras.callbacks import EarlyStopping\n",
    "from keras import initializers\n",
    "from matplotlib import pyplot\n",
    "from datetime import datetime\n",
    "from matplotlib import pyplot as plt\n",
    "from sklearn.preprocessing import MinMaxScaler\n",
    "import locale\n",
    "\n",
    "%matplotlib inline\n",
    "\n",
    "bitcoin_data = pd.read_csv('bitcoin.csv', header = 0, parse_dates=['Date'])\n",
    "bitcoin_data['Year'] = bitcoin_data['Date'].apply(lambda x: x.year)\n",
    "bitcoin_data['Month'] = bitcoin_data['Date'].apply(lambda x: x.month)\n",
    "bitcoin_data = bitcoin_data.loc[bitcoin_data['Date'] > datetime(2016,1,1)]\n",
    "bitcoin_data.head(3)\n",
    "bitcoin_data = bitcoin_data.sort_values('Date')\n",
    "bitcoin_data = bitcoin_data.set_index('Date')"
   ]
  },
  {
   "cell_type": "code",
   "execution_count": null,
   "metadata": {
    "collapsed": true
   },
   "outputs": [],
   "source": []
  },
  {
   "cell_type": "code",
   "execution_count": 16,
   "metadata": {},
   "outputs": [
    {
     "data": {
      "text/html": [
       "<div>\n",
       "<style>\n",
       "    .dataframe thead tr:only-child th {\n",
       "        text-align: right;\n",
       "    }\n",
       "\n",
       "    .dataframe thead th {\n",
       "        text-align: left;\n",
       "    }\n",
       "\n",
       "    .dataframe tbody tr th {\n",
       "        vertical-align: top;\n",
       "    }\n",
       "</style>\n",
       "<table border=\"1\" class=\"dataframe\">\n",
       "  <thead>\n",
       "    <tr style=\"text-align: right;\">\n",
       "      <th></th>\n",
       "      <th>Open</th>\n",
       "      <th>High</th>\n",
       "      <th>Low</th>\n",
       "      <th>Close</th>\n",
       "      <th>Volume</th>\n",
       "      <th>Market Cap</th>\n",
       "      <th>Year</th>\n",
       "      <th>Month</th>\n",
       "    </tr>\n",
       "    <tr>\n",
       "      <th>Date</th>\n",
       "      <th></th>\n",
       "      <th></th>\n",
       "      <th></th>\n",
       "      <th></th>\n",
       "      <th></th>\n",
       "      <th></th>\n",
       "      <th></th>\n",
       "      <th></th>\n",
       "    </tr>\n",
       "  </thead>\n",
       "  <tbody>\n",
       "    <tr>\n",
       "      <th>2016-01-02</th>\n",
       "      <td>434.62</td>\n",
       "      <td>436.06</td>\n",
       "      <td>431.87</td>\n",
       "      <td>433.44</td>\n",
       "      <td>30096600.0</td>\n",
       "      <td>6.533630e+09</td>\n",
       "      <td>2016</td>\n",
       "      <td>1</td>\n",
       "    </tr>\n",
       "    <tr>\n",
       "      <th>2016-01-03</th>\n",
       "      <td>433.58</td>\n",
       "      <td>433.74</td>\n",
       "      <td>424.71</td>\n",
       "      <td>430.01</td>\n",
       "      <td>39633800.0</td>\n",
       "      <td>6.519500e+09</td>\n",
       "      <td>2016</td>\n",
       "      <td>1</td>\n",
       "    </tr>\n",
       "    <tr>\n",
       "      <th>2016-01-04</th>\n",
       "      <td>430.06</td>\n",
       "      <td>434.52</td>\n",
       "      <td>429.08</td>\n",
       "      <td>433.09</td>\n",
       "      <td>38477500.0</td>\n",
       "      <td>6.468180e+09</td>\n",
       "      <td>2016</td>\n",
       "      <td>1</td>\n",
       "    </tr>\n",
       "    <tr>\n",
       "      <th>2016-01-05</th>\n",
       "      <td>433.07</td>\n",
       "      <td>434.18</td>\n",
       "      <td>429.68</td>\n",
       "      <td>431.96</td>\n",
       "      <td>34522600.0</td>\n",
       "      <td>6.515380e+09</td>\n",
       "      <td>2016</td>\n",
       "      <td>1</td>\n",
       "    </tr>\n",
       "    <tr>\n",
       "      <th>2016-01-06</th>\n",
       "      <td>431.86</td>\n",
       "      <td>431.86</td>\n",
       "      <td>426.34</td>\n",
       "      <td>429.11</td>\n",
       "      <td>34042500.0</td>\n",
       "      <td>6.498830e+09</td>\n",
       "      <td>2016</td>\n",
       "      <td>1</td>\n",
       "    </tr>\n",
       "  </tbody>\n",
       "</table>\n",
       "</div>"
      ],
      "text/plain": [
       "              Open    High     Low   Close      Volume    Market Cap  Year  \\\n",
       "Date                                                                         \n",
       "2016-01-02  434.62  436.06  431.87  433.44  30096600.0  6.533630e+09  2016   \n",
       "2016-01-03  433.58  433.74  424.71  430.01  39633800.0  6.519500e+09  2016   \n",
       "2016-01-04  430.06  434.52  429.08  433.09  38477500.0  6.468180e+09  2016   \n",
       "2016-01-05  433.07  434.18  429.68  431.96  34522600.0  6.515380e+09  2016   \n",
       "2016-01-06  431.86  431.86  426.34  429.11  34042500.0  6.498830e+09  2016   \n",
       "\n",
       "            Month  \n",
       "Date               \n",
       "2016-01-02      1  \n",
       "2016-01-03      1  \n",
       "2016-01-04      1  \n",
       "2016-01-05      1  \n",
       "2016-01-06      1  "
      ]
     },
     "execution_count": 16,
     "metadata": {},
     "output_type": "execute_result"
    }
   ],
   "source": [
    "bitcoin_data.head()"
   ]
  },
  {
   "cell_type": "code",
   "execution_count": 17,
   "metadata": {
    "collapsed": true
   },
   "outputs": [],
   "source": [
    "df_train = bitcoin_data[0:500]\n",
    "df_test = bitcoin_data[500:]"
   ]
  },
  {
   "cell_type": "code",
   "execution_count": 18,
   "metadata": {
    "collapsed": true
   },
   "outputs": [],
   "source": [
    "scaler = MinMaxScaler()\n",
    "\n",
    "\n",
    "training_set = df_train.values\n",
    "training_set = scaler.fit_transform(training_set)\n",
    "X_train = np.reshape(training_set, (len(training_set),1, df_train.shape[1]))\n",
    "Y_train = training_set[:,3]\n",
    "\n",
    "\n",
    "test_set = df_test.values\n",
    "test_set = scaler.fit_transform(test_set)\n",
    "X_test = np.reshape(test_set, (len(test_set),1, df_train.shape[1]))\n",
    "Y_test = test_set[:,3]\n"
   ]
  },
  {
   "cell_type": "code",
   "execution_count": 19,
   "metadata": {},
   "outputs": [
    {
     "data": {
      "text/plain": [
       "(500,)"
      ]
     },
     "execution_count": 19,
     "metadata": {},
     "output_type": "execute_result"
    }
   ],
   "source": [
    "Y_train.shape"
   ]
  },
  {
   "cell_type": "code",
   "execution_count": 20,
   "metadata": {},
   "outputs": [
    {
     "data": {
      "text/plain": [
       "(500, 1, 8)"
      ]
     },
     "execution_count": 20,
     "metadata": {},
     "output_type": "execute_result"
    }
   ],
   "source": [
    "X_train.shape"
   ]
  },
  {
   "cell_type": "code",
   "execution_count": 21,
   "metadata": {},
   "outputs": [
    {
     "name": "stdout",
     "output_type": "stream",
     "text": [
      "_________________________________________________________________\n",
      "Layer (type)                 Output Shape              Param #   \n",
      "=================================================================\n",
      "lstm_3 (LSTM)                (None, 1, 256)            271360    \n",
      "_________________________________________________________________\n",
      "lstm_4 (LSTM)                (None, 256)               525312    \n",
      "_________________________________________________________________\n",
      "dense_2 (Dense)              (None, 1)                 257       \n",
      "=================================================================\n",
      "Total params: 796,929\n",
      "Trainable params: 796,929\n",
      "Non-trainable params: 0\n",
      "_________________________________________________________________\n",
      "None\n"
     ]
    }
   ],
   "source": [
    "model = Sequential()\n",
    "model.add(LSTM(256, return_sequences=True, input_shape=(X_train.shape[1], X_train.shape[2])))\n",
    "model.add(LSTM(256))\n",
    "model.add(Dense(1))\n",
    "\n",
    "print(model.summary())"
   ]
  },
  {
   "cell_type": "code",
   "execution_count": 22,
   "metadata": {},
   "outputs": [
    {
     "name": "stdout",
     "output_type": "stream",
     "text": [
      "Train on 500 samples, validate on 281 samples\n",
      "Epoch 1/200\n",
      "500/500 [==============================] - 1s 3ms/step - loss: 0.0043 - val_loss: 0.0400\n",
      "Epoch 2/200\n",
      "500/500 [==============================] - 1s 2ms/step - loss: 0.0111 - val_loss: 0.0126\n",
      "Epoch 3/200\n",
      "500/500 [==============================] - 1s 2ms/step - loss: 0.0035 - val_loss: 0.0021\n",
      "Epoch 4/200\n",
      "500/500 [==============================] - 1s 2ms/step - loss: 8.2169e-04 - val_loss: 0.0017\n",
      "Epoch 5/200\n",
      "500/500 [==============================] - 1s 2ms/step - loss: 0.0060 - val_loss: 0.0154\n",
      "Epoch 6/200\n",
      "500/500 [==============================] - 1s 1ms/step - loss: 0.0097 - val_loss: 0.0310\n",
      "Epoch 7/200\n",
      "500/500 [==============================] - 1s 1ms/step - loss: 0.0084 - val_loss: 0.0079\n",
      "Epoch 8/200\n",
      "500/500 [==============================] - 1s 1ms/step - loss: 0.0012 - val_loss: 0.0016\n",
      "Epoch 9/200\n",
      "500/500 [==============================] - 1s 1ms/step - loss: 0.0036 - val_loss: 0.0094\n",
      "Epoch 10/200\n",
      "500/500 [==============================] - 1s 1ms/step - loss: 0.0021 - val_loss: 9.5784e-04\n",
      "Epoch 11/200\n",
      "500/500 [==============================] - 1s 1ms/step - loss: 3.6823e-04 - val_loss: 0.0012\n",
      "Epoch 12/200\n",
      "500/500 [==============================] - 1s 1ms/step - loss: 2.2428e-04 - val_loss: 7.5325e-04\n",
      "Epoch 13/200\n",
      "500/500 [==============================] - 1s 1ms/step - loss: 2.2693e-04 - val_loss: 7.3960e-04\n",
      "Epoch 14/200\n",
      "500/500 [==============================] - 1s 1ms/step - loss: 2.3507e-04 - val_loss: 7.1376e-04\n",
      "Epoch 15/200\n",
      "500/500 [==============================] - 1s 1ms/step - loss: 2.0217e-04 - val_loss: 6.5240e-04\n",
      "Epoch 16/200\n",
      "500/500 [==============================] - 1s 2ms/step - loss: 1.7516e-04 - val_loss: 6.5047e-04\n",
      "Epoch 17/200\n",
      "500/500 [==============================] - 1s 1ms/step - loss: 1.7645e-04 - val_loss: 7.0016e-04\n",
      "Epoch 18/200\n",
      "500/500 [==============================] - 1s 1ms/step - loss: 1.8266e-04 - val_loss: 7.1150e-04\n",
      "Epoch 19/200\n",
      "500/500 [==============================] - 1s 1ms/step - loss: 1.7456e-04 - val_loss: 6.4570e-04\n",
      "Epoch 20/200\n",
      "500/500 [==============================] - 1s 1ms/step - loss: 1.6806e-04 - val_loss: 5.8896e-04\n",
      "Epoch 21/200\n",
      "500/500 [==============================] - 1s 1ms/step - loss: 2.0084e-04 - val_loss: 6.8046e-04\n",
      "Epoch 22/200\n",
      "500/500 [==============================] - 1s 2ms/step - loss: 2.6605e-04 - val_loss: 8.7280e-04\n",
      "Epoch 23/200\n",
      "500/500 [==============================] - 1s 1ms/step - loss: 2.7734e-04 - val_loss: 8.2554e-04\n",
      "Epoch 24/200\n",
      "500/500 [==============================] - 1s 2ms/step - loss: 1.9439e-04 - val_loss: 5.3471e-04\n",
      "Epoch 25/200\n",
      "500/500 [==============================] - 1s 1ms/step - loss: 1.7449e-04 - val_loss: 7.2023e-04\n",
      "Epoch 26/200\n",
      "500/500 [==============================] - 1s 1ms/step - loss: 4.2557e-04 - val_loss: 0.0019\n",
      "Epoch 27/200\n",
      "500/500 [==============================] - 1s 2ms/step - loss: 9.0638e-04 - val_loss: 0.0035\n",
      "Epoch 28/200\n",
      "500/500 [==============================] - 1s 2ms/step - loss: 0.0013 - val_loss: 0.0043\n",
      "Epoch 29/200\n",
      "500/500 [==============================] - 1s 2ms/step - loss: 0.0011 - val_loss: 0.0033\n",
      "Epoch 30/200\n",
      "500/500 [==============================] - 1s 2ms/step - loss: 5.4673e-04 - val_loss: 0.0011\n",
      "Epoch 31/200\n",
      "500/500 [==============================] - 1s 2ms/step - loss: 0.0016 - val_loss: 0.0054\n",
      "Epoch 32/200\n",
      "500/500 [==============================] - 1s 1ms/step - loss: 0.0071 - val_loss: 0.0331\n",
      "Epoch 33/200\n",
      "500/500 [==============================] - 1s 2ms/step - loss: 0.0055 - val_loss: 0.0066\n",
      "Epoch 34/200\n",
      "500/500 [==============================] - 1s 2ms/step - loss: 0.0014 - val_loss: 9.0095e-04\n",
      "Epoch 35/200\n",
      "500/500 [==============================] - 1s 2ms/step - loss: 0.0016 - val_loss: 0.0020\n",
      "Epoch 36/200\n",
      "500/500 [==============================] - 1s 1ms/step - loss: 0.0048 - val_loss: 0.0162\n",
      "Epoch 37/200\n",
      "500/500 [==============================] - 1s 1ms/step - loss: 0.0044 - val_loss: 0.0130\n",
      "Epoch 38/200\n",
      "500/500 [==============================] - 1s 1ms/step - loss: 0.0027 - val_loss: 0.0021\n",
      "Epoch 39/200\n",
      "500/500 [==============================] - 1s 2ms/step - loss: 0.0015 - val_loss: 0.0025\n",
      "Epoch 40/200\n",
      "500/500 [==============================] - 1s 2ms/step - loss: 0.0078 - val_loss: 0.0225\n",
      "Epoch 41/200\n",
      "500/500 [==============================] - 1s 2ms/step - loss: 0.0072 - val_loss: 0.0071\n",
      "Epoch 42/200\n",
      "500/500 [==============================] - 1s 1ms/step - loss: 0.0020 - val_loss: 8.3880e-04\n",
      "Epoch 43/200\n",
      "500/500 [==============================] - 1s 1ms/step - loss: 2.4104e-04 - val_loss: 4.9242e-04\n",
      "Epoch 44/200\n",
      "500/500 [==============================] - 1s 2ms/step - loss: 2.5114e-04 - val_loss: 8.8363e-04\n",
      "Epoch 00044: early stopping\n"
     ]
    }
   ],
   "source": [
    "model.compile(loss='mean_squared_error', optimizer='adam')\n",
    "history = model.fit(X_train, Y_train, epochs=200, batch_size=16, shuffle=False,\n",
    "                    validation_data=(X_test, Y_test),\n",
    "                    callbacks = [EarlyStopping(monitor='val_loss', min_delta=5e-5, patience=20, verbose=1)])"
   ]
  },
  {
   "cell_type": "code",
   "execution_count": 23,
   "metadata": {},
   "outputs": [
    {
     "data": {
      "text/plain": [
       "<matplotlib.legend.Legend at 0x1c27aa9e10>"
      ]
     },
     "execution_count": 23,
     "metadata": {},
     "output_type": "execute_result"
    },
    {
     "data": {
      "image/png": "[encoded data removed]",
      "text/plain": [
       "<matplotlib.figure.Figure at 0x1c183c1fd0>"
      ]
     },
     "metadata": {},
     "output_type": "display_data"
    }
   ],
   "source": [
    "plt.figure()\n",
    "plt.xlabel('Epochs')\n",
    "plt.ylabel('Loss')\n",
    "plt.plot(history.history['loss'])\n",
    "plt.plot(history.history['val_loss'])\n",
    "plt.legend(['Training', 'Validation'])"
   ]
  },
  {
   "cell_type": "code",
   "execution_count": 24,
   "metadata": {
    "collapsed": true
   },
   "outputs": [],
   "source": [
    "prediction = model.predict(X_test)"
   ]
  },
  {
   "cell_type": "code",
   "execution_count": 25,
   "metadata": {
    "collapsed": true
   },
   "outputs": [],
   "source": [
    "X_test = X_test.reshape((X_test.shape[0], X_test.shape[2]))\n",
    "Y_test = Y_test.reshape((len(Y_test), 1))"
   ]
  },
  {
   "cell_type": "code",
   "execution_count": 26,
   "metadata": {
    "collapsed": true
   },
   "outputs": [],
   "source": [
    "inv_prediction = np.concatenate((prediction, X_test[:, 1:]), axis=1)\n",
    "inv_prediction = scaler.inverse_transform(inv_prediction)\n",
    "inv_prediction = inv_prediction[:,0]\n",
    "\n",
    "Y_test_inverse = np.concatenate((Y_test, X_test[:, 1:]), axis=1)\n",
    "Y_test_inverse = scaler.inverse_transform(Y_test_inverse)\n",
    "Y_test_inverse = Y_test_inverse[:,0]"
   ]
  },
  {
   "cell_type": "code",
   "execution_count": null,
   "metadata": {
    "collapsed": true
   },
   "outputs": [],
   "source": []
  },
  {
   "cell_type": "code",
   "execution_count": 27,
   "metadata": {},
   "outputs": [
    {
     "data": {
      "text/plain": [
       "<matplotlib.legend.Legend at 0x1c25ec1510>"
      ]
     },
     "execution_count": 27,
     "metadata": {},
     "output_type": "execute_result"
    },
    {
     "data": {
      "image/png": "[encoded data removed]",
      "text/plain": [
       "<matplotlib.figure.Figure at 0x1c18969950>"
      ]
     },
     "metadata": {},
     "output_type": "display_data"
    }
   ],
   "source": [
    "plt.figure()\n",
    "plt.xlabel('Date')\n",
    "plt.ylabel('Price')\n",
    "plt.plot(inv_prediction)\n",
    "plt.plot(Y_test_inverse)\n",
    "plt.legend(['Predicted', 'True'])"
   ]
  },
  {
   "cell_type": "code",
   "execution_count": null,
   "metadata": {
    "collapsed": true
   },
   "outputs": [],
   "source": []
  },
  {
   "cell_type": "code",
   "execution_count": null,
   "metadata": {
    "collapsed": true
   },
   "outputs": [],
   "source": []
  }
 ],
 "metadata": {
  "kernelspec": {
   "display_name": "Python 2",
   "language": "python",
   "name": "python2"
  },
  "language_info": {
   "codemirror_mode": {
    "name": "ipython",
    "version": 2
   },
   "file_extension": ".py",
   "mimetype": "text/x-python",
   "name": "python",
   "nbconvert_exporter": "python",
   "pygments_lexer": "ipython2",
   "version": "2.7.14"
  }
 },
 "nbformat": 4,
 "nbformat_minor": 2
}
