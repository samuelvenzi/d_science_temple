{
 "cells": [
  {
   "cell_type": "code",
   "execution_count": 1,
   "metadata": {},
   "outputs": [
    {
     "name": "stderr",
     "output_type": "stream",
     "text": [
      "/Users/samuel/anaconda2/lib/python2.7/site-packages/statsmodels/compat/pandas.py:56: FutureWarning: The pandas.core.datetools module is deprecated and will be removed in a future version. Please use the pandas.tseries module instead.\n",
      "  from pandas.core import datetools\n",
      "Using TensorFlow backend.\n"
     ]
    }
   ],
   "source": [
    "import pandas as pd\n",
    "import numpy as np\n",
    "import matplotlib.pyplot as plt\n",
    "from datetime import datetime\n",
    "\n",
    "import numpy as np\n",
    "import pandas as pd\n",
    "import statsmodels.api as sm\n",
    "from scipy import stats\n",
    "from sklearn.metrics import mean_squared_error\n",
    "from math import sqrt\n",
    "from random import randint\n",
    "from keras.models import Sequential\n",
    "from keras.layers import Dense\n",
    "from keras.layers import LSTM\n",
    "from keras.layers import GRU\n",
    "from keras.callbacks import EarlyStopping\n",
    "from keras import initializers\n",
    "from matplotlib import pyplot\n",
    "from datetime import datetime\n",
    "from matplotlib import pyplot as plt\n",
    "from sklearn.preprocessing import MinMaxScaler\n",
    "\n",
    "%matplotlib inline\n",
    "\n",
    "bitcoin_data = pd.read_csv('cryptocurrencypricehistory/bitcoin_dataset.csv', header = 0, parse_dates=['Date'])\n",
    "bitcoin_data['Year'] = bitcoin_data['Date'].apply(lambda x: x.year)\n",
    "bitcoin_data['Month'] = bitcoin_data['Date'].apply(lambda x: x.month)\n",
    "bitcoin_data = bitcoin_data.loc[bitcoin_data['Date'] > datetime(2016,1,1)]\n",
    "bitcoin_data.head(3)\n",
    "bitcoin_data = bitcoin_data.set_index('Date')"
   ]
  },
  {
   "cell_type": "code",
   "execution_count": 2,
   "metadata": {},
   "outputs": [],
   "source": [
    "df_train = bitcoin_data[0:700]\n",
    "df_test = bitcoin_data[700:780]"
   ]
  },
  {
   "cell_type": "code",
   "execution_count": null,
   "metadata": {},
   "outputs": [],
   "source": []
  },
  {
   "cell_type": "code",
   "execution_count": null,
   "metadata": {
    "collapsed": true
   },
   "outputs": [],
   "source": []
  },
  {
   "cell_type": "code",
   "execution_count": 3,
   "metadata": {},
   "outputs": [],
   "source": [
    "scaler = MinMaxScaler()\n",
    "\n",
    "\n",
    "training_set = df_train.values\n",
    "training_set = scaler.fit_transform(training_set)\n",
    "X_train = np.reshape(training_set, (len(training_set),1, df_train.shape[1]))\n",
    "Y_train = training_set[:,0]\n",
    "\n",
    "\n",
    "test_set = df_test.values\n",
    "test_set = scaler.fit_transform(test_set)\n",
    "X_test = np.reshape(test_set, (len(test_set),1, df_train.shape[1]))\n",
    "Y_test = test_set[:,0]\n"
   ]
  },
  {
   "cell_type": "code",
   "execution_count": 4,
   "metadata": {},
   "outputs": [
    {
     "data": {
      "text/plain": [
       "(700,)"
      ]
     },
     "execution_count": 4,
     "metadata": {},
     "output_type": "execute_result"
    }
   ],
   "source": [
    "Y_train.shape"
   ]
  },
  {
   "cell_type": "code",
   "execution_count": 5,
   "metadata": {},
   "outputs": [
    {
     "data": {
      "text/plain": [
       "(700, 1, 25)"
      ]
     },
     "execution_count": 5,
     "metadata": {},
     "output_type": "execute_result"
    }
   ],
   "source": [
    "X_train.shape"
   ]
  },
  {
   "cell_type": "code",
   "execution_count": 6,
   "metadata": {},
   "outputs": [
    {
     "name": "stdout",
     "output_type": "stream",
     "text": [
      "_________________________________________________________________\n",
      "Layer (type)                 Output Shape              Param #   \n",
      "=================================================================\n",
      "lstm_1 (LSTM)                (None, 1, 256)            288768    \n",
      "_________________________________________________________________\n",
      "lstm_2 (LSTM)                (None, 256)               525312    \n",
      "_________________________________________________________________\n",
      "dense_1 (Dense)              (None, 1)                 257       \n",
      "=================================================================\n",
      "Total params: 814,337\n",
      "Trainable params: 814,337\n",
      "Non-trainable params: 0\n",
      "_________________________________________________________________\n",
      "None\n"
     ]
    }
   ],
   "source": [
    "model = Sequential()\n",
    "model.add(LSTM(256, return_sequences=True, input_shape=(X_train.shape[1], X_train.shape[2])))\n",
    "model.add(LSTM(256))\n",
    "model.add(Dense(1))\n",
    "\n",
    "print(model.summary())"
   ]
  },
  {
   "cell_type": "code",
   "execution_count": 7,
   "metadata": {},
   "outputs": [
    {
     "name": "stdout",
     "output_type": "stream",
     "text": [
      "Train on 700 samples, validate on 80 samples\n",
      "Epoch 1/100\n",
      "700/700 [==============================] - 1s 2ms/step - loss: 0.0017 - val_loss: 0.0420\n",
      "Epoch 2/100\n",
      "700/700 [==============================] - 1s 1ms/step - loss: 0.0114 - val_loss: 0.0653\n",
      "Epoch 3/100\n",
      "700/700 [==============================] - 1s 1ms/step - loss: 0.0027 - val_loss: 0.1032\n",
      "Epoch 4/100\n",
      "700/700 [==============================] - 1s 1ms/step - loss: 0.0094 - val_loss: 0.0776\n",
      "Epoch 5/100\n",
      "700/700 [==============================] - 1s 1ms/step - loss: 0.0040 - val_loss: 0.0531\n",
      "Epoch 6/100\n",
      "700/700 [==============================] - 1s 1ms/step - loss: 0.0061 - val_loss: 0.0967\n",
      "Epoch 7/100\n",
      "700/700 [==============================] - 1s 1ms/step - loss: 0.0077 - val_loss: 0.0396\n",
      "Epoch 8/100\n",
      "700/700 [==============================] - 1s 1ms/step - loss: 0.0018 - val_loss: 0.0511\n",
      "Epoch 9/100\n",
      "700/700 [==============================] - 1s 1ms/step - loss: 0.0030 - val_loss: 0.0562\n",
      "Epoch 10/100\n",
      "700/700 [==============================] - 1s 1ms/step - loss: 0.0022 - val_loss: 0.0402\n",
      "Epoch 11/100\n",
      "700/700 [==============================] - 1s 1ms/step - loss: 0.0014 - val_loss: 0.0528\n",
      "Epoch 12/100\n",
      "700/700 [==============================] - 1s 1ms/step - loss: 0.0013 - val_loss: 0.0444\n",
      "Epoch 13/100\n",
      "700/700 [==============================] - 1s 1ms/step - loss: 5.2035e-04 - val_loss: 0.0476\n",
      "Epoch 14/100\n",
      "700/700 [==============================] - 1s 1ms/step - loss: 5.5614e-04 - val_loss: 0.0512\n",
      "Epoch 15/100\n",
      "700/700 [==============================] - 1s 1ms/step - loss: 0.0017 - val_loss: 0.0434\n",
      "Epoch 16/100\n",
      "700/700 [==============================] - 1s 1ms/step - loss: 0.0023 - val_loss: 0.0376\n",
      "Epoch 17/100\n",
      "700/700 [==============================] - 1s 1ms/step - loss: 0.0023 - val_loss: 0.0756\n",
      "Epoch 18/100\n",
      "700/700 [==============================] - 1s 1ms/step - loss: 0.0039 - val_loss: 0.0323\n",
      "Epoch 19/100\n",
      "700/700 [==============================] - 1s 1ms/step - loss: 0.0014 - val_loss: 0.0536\n",
      "Epoch 20/100\n",
      "700/700 [==============================] - 1s 1ms/step - loss: 0.0010 - val_loss: 0.0483\n",
      "Epoch 21/100\n",
      "700/700 [==============================] - 1s 1ms/step - loss: 5.4183e-04 - val_loss: 0.0450\n",
      "Epoch 22/100\n",
      "700/700 [==============================] - 1s 1ms/step - loss: 3.3534e-04 - val_loss: 0.0484\n",
      "Epoch 23/100\n",
      "700/700 [==============================] - 1s 1ms/step - loss: 4.2995e-04 - val_loss: 0.0477\n",
      "Epoch 24/100\n",
      "700/700 [==============================] - 1s 1ms/step - loss: 0.0014 - val_loss: 0.0407\n",
      "Epoch 25/100\n",
      "700/700 [==============================] - 1s 1ms/step - loss: 0.0017 - val_loss: 0.0357\n",
      "Epoch 26/100\n",
      "700/700 [==============================] - 1s 1ms/step - loss: 0.0015 - val_loss: 0.0678\n",
      "Epoch 27/100\n",
      "700/700 [==============================] - 1s 1ms/step - loss: 0.0023 - val_loss: 0.0363\n",
      "Epoch 28/100\n",
      "700/700 [==============================] - 1s 1ms/step - loss: 0.0011 - val_loss: 0.0598\n",
      "Epoch 29/100\n",
      "700/700 [==============================] - 1s 1ms/step - loss: 0.0011 - val_loss: 0.0434\n",
      "Epoch 30/100\n",
      "700/700 [==============================] - 1s 1ms/step - loss: 3.9037e-04 - val_loss: 0.0522\n",
      "Epoch 31/100\n",
      "700/700 [==============================] - 1s 1ms/step - loss: 2.6184e-04 - val_loss: 0.0481\n",
      "Epoch 32/100\n",
      "700/700 [==============================] - 1s 1ms/step - loss: 3.9078e-04 - val_loss: 0.0476\n",
      "Epoch 33/100\n",
      "700/700 [==============================] - 1s 1ms/step - loss: 5.4763e-04 - val_loss: 0.0428\n",
      "Epoch 34/100\n",
      "700/700 [==============================] - 1s 1ms/step - loss: 4.5257e-04 - val_loss: 0.0454\n",
      "Epoch 35/100\n",
      "700/700 [==============================] - 1s 1ms/step - loss: 3.9179e-04 - val_loss: 0.0481\n",
      "Epoch 36/100\n",
      "700/700 [==============================] - 1s 1ms/step - loss: 4.1983e-04 - val_loss: 0.0452\n",
      "Epoch 37/100\n",
      "700/700 [==============================] - 1s 1ms/step - loss: 2.6206e-04 - val_loss: 0.0465\n",
      "Epoch 38/100\n",
      "700/700 [==============================] - 1s 1ms/step - loss: 2.4917e-04 - val_loss: 0.0444\n",
      "Epoch 00038: early stopping\n"
     ]
    }
   ],
   "source": [
    "model.compile(loss='mean_squared_error', optimizer='adam')\n",
    "history = model.fit(X_train, Y_train, epochs=100, batch_size=16, shuffle=False,\n",
    "                    validation_data=(X_test, Y_test),\n",
    "                    callbacks = [EarlyStopping(monitor='val_loss', min_delta=5e-5, patience=20, verbose=1)])"
   ]
  },
  {
   "cell_type": "code",
   "execution_count": 8,
   "metadata": {},
   "outputs": [
    {
     "data": {
      "text/plain": [
       "<matplotlib.legend.Legend at 0x109f19b10>"
      ]
     },
     "execution_count": 8,
     "metadata": {},
     "output_type": "execute_result"
    },
    {
     "data": {
      "image/png": "[encoded data removed]",
      "text/plain": [
       "<matplotlib.figure.Figure at 0x1c276cbe10>"
      ]
     },
     "metadata": {},
     "output_type": "display_data"
    }
   ],
   "source": [
    "plt.figure()\n",
    "plt.xlabel('Epochs')\n",
    "plt.ylabel('Loss')\n",
    "plt.plot(history.history['loss'])\n",
    "plt.plot(history.history['val_loss'])\n",
    "plt.legend(['Training', 'Validation'])"
   ]
  },
  {
   "cell_type": "code",
   "execution_count": 9,
   "metadata": {
    "collapsed": true
   },
   "outputs": [],
   "source": [
    "prediction = model.predict(X_test)"
   ]
  },
  {
   "cell_type": "code",
   "execution_count": 10,
   "metadata": {},
   "outputs": [],
   "source": [
    "X_test = X_test.reshape((X_test.shape[0], X_test.shape[2]))\n",
    "Y_test = Y_test.reshape((len(Y_test), 1))"
   ]
  },
  {
   "cell_type": "code",
   "execution_count": 11,
   "metadata": {},
   "outputs": [],
   "source": [
    "inv_prediction = np.concatenate((prediction, X_test[:, 1:]), axis=1)\n",
    "inv_prediction = scaler.inverse_transform(inv_prediction)\n",
    "inv_prediction = inv_prediction[:,0]\n",
    "\n",
    "Y_test_inverse = np.concatenate((Y_test, X_test[:, 1:]), axis=1)\n",
    "Y_test_inverse = scaler.inverse_transform(Y_test_inverse)\n",
    "Y_test_inverse = Y_test_inverse[:,0]"
   ]
  },
  {
   "cell_type": "code",
   "execution_count": null,
   "metadata": {},
   "outputs": [],
   "source": []
  },
  {
   "cell_type": "code",
   "execution_count": 12,
   "metadata": {},
   "outputs": [
    {
     "data": {
      "text/plain": [
       "<matplotlib.legend.Legend at 0x1c1abe09d0>"
      ]
     },
     "execution_count": 12,
     "metadata": {},
     "output_type": "execute_result"
    },
    {
     "data": {
      "image/png": "[encoded data removed]",
      "text/plain": [
       "<matplotlib.figure.Figure at 0x10bcdc690>"
      ]
     },
     "metadata": {},
     "output_type": "display_data"
    }
   ],
   "source": [
    "plt.figure()\n",
    "plt.xlabel('Date')\n",
    "plt.ylabel('Price')\n",
    "plt.plot(inv_prediction)\n",
    "plt.plot(Y_test_inverse)\n",
    "plt.legend(['Predicted', 'True'])"
   ]
  },
  {
   "cell_type": "code",
   "execution_count": null,
   "metadata": {},
   "outputs": [],
   "source": []
  },
  {
   "cell_type": "code",
   "execution_count": null,
   "metadata": {
    "collapsed": true
   },
   "outputs": [],
   "source": []
  }
 ],
 "metadata": {
  "kernelspec": {
   "display_name": "Python 2",
   "language": "python",
   "name": "python2"
  },
  "language_info": {
   "codemirror_mode": {
    "name": "ipython",
    "version": 2
   },
   "file_extension": ".py",
   "mimetype": "text/x-python",
   "name": "python",
   "nbconvert_exporter": "python",
   "pygments_lexer": "ipython2",
   "version": "2.7.14"
  }
 },
 "nbformat": 4,
 "nbformat_minor": 2
}
