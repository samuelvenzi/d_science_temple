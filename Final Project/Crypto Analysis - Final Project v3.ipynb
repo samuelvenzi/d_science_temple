{
 "cells": [
  {
   "cell_type": "code",
   "execution_count": 2,
   "metadata": {},
   "outputs": [
    {
     "name": "stderr",
     "output_type": "stream",
     "text": [
      "/Users/samuel/anaconda2/lib/python2.7/site-packages/statsmodels/compat/pandas.py:56: FutureWarning: The pandas.core.datetools module is deprecated and will be removed in a future version. Please use the pandas.tseries module instead.\n",
      "  from pandas.core import datetools\n",
      "Using TensorFlow backend.\n"
     ]
    }
   ],
   "source": [
    "import pandas as pd\n",
    "import numpy as np\n",
    "import matplotlib.pyplot as plt\n",
    "from datetime import datetime\n",
    "\n",
    "import numpy as np\n",
    "import pandas as pd\n",
    "import statsmodels.api as sm\n",
    "from scipy import stats\n",
    "from sklearn.metrics import mean_squared_error\n",
    "from math import sqrt\n",
    "from random import randint\n",
    "from keras.models import Sequential\n",
    "from keras.layers import Dense\n",
    "from keras.layers import LSTM\n",
    "from keras.layers import GRU\n",
    "from keras.callbacks import EarlyStopping\n",
    "from keras import initializers\n",
    "from matplotlib import pyplot\n",
    "from datetime import datetime\n",
    "from matplotlib import pyplot as plt\n",
    "from sklearn.preprocessing import MinMaxScaler\n",
    "\n",
    "%matplotlib inline\n",
    "\n",
    "bitcoin_data = pd.read_csv('cryptocurrencypricehistory/bitcoin_dataset.csv', header = 0, parse_dates=['Date'])\n",
    "bitcoin_data['Year'] = bitcoin_data['Date'].apply(lambda x: x.year)\n",
    "bitcoin_data['Month'] = bitcoin_data['Date'].apply(lambda x: x.month)\n",
    "bitcoin_data = bitcoin_data.loc[bitcoin_data['Date'] > datetime(2016,1,1)]\n",
    "bitcoin_data.head(3)\n",
    "bitcoin_data = bitcoin_data.set_index('Date')"
   ]
  },
  {
   "cell_type": "code",
   "execution_count": 3,
   "metadata": {
    "collapsed": true
   },
   "outputs": [],
   "source": [
    "df_train = bitcoin_data[0:700]\n",
    "df_test = bitcoin_data[700:780]"
   ]
  },
  {
   "cell_type": "code",
   "execution_count": 4,
   "metadata": {
    "collapsed": true
   },
   "outputs": [],
   "source": [
    "scaler = MinMaxScaler()\n",
    "\n",
    "\n",
    "training_set = df_train.values\n",
    "training_set = scaler.fit_transform(training_set)\n",
    "X_train = np.reshape(training_set, (len(training_set),1, df_train.shape[1]))\n",
    "Y_train = training_set[:,0]\n",
    "\n",
    "\n",
    "test_set = df_test.values\n",
    "test_set = scaler.fit_transform(test_set)\n",
    "X_test = np.reshape(test_set, (len(test_set),1, df_train.shape[1]))\n",
    "Y_test = test_set[:,0]\n"
   ]
  },
  {
   "cell_type": "code",
   "execution_count": 5,
   "metadata": {},
   "outputs": [
    {
     "data": {
      "text/plain": [
       "(700,)"
      ]
     },
     "execution_count": 5,
     "metadata": {},
     "output_type": "execute_result"
    }
   ],
   "source": [
    "Y_train.shape"
   ]
  },
  {
   "cell_type": "code",
   "execution_count": 6,
   "metadata": {},
   "outputs": [
    {
     "data": {
      "text/plain": [
       "(700, 1, 25)"
      ]
     },
     "execution_count": 6,
     "metadata": {},
     "output_type": "execute_result"
    }
   ],
   "source": [
    "X_train.shape"
   ]
  },
  {
   "cell_type": "code",
   "execution_count": 7,
   "metadata": {},
   "outputs": [
    {
     "name": "stdout",
     "output_type": "stream",
     "text": [
      "_________________________________________________________________\n",
      "Layer (type)                 Output Shape              Param #   \n",
      "=================================================================\n",
      "lstm_1 (LSTM)                (None, 1, 256)            288768    \n",
      "_________________________________________________________________\n",
      "lstm_2 (LSTM)                (None, 256)               525312    \n",
      "_________________________________________________________________\n",
      "dense_1 (Dense)              (None, 1)                 257       \n",
      "=================================================================\n",
      "Total params: 814,337\n",
      "Trainable params: 814,337\n",
      "Non-trainable params: 0\n",
      "_________________________________________________________________\n",
      "None\n"
     ]
    }
   ],
   "source": [
    "model = Sequential()\n",
    "model.add(LSTM(256, return_sequences=True, input_shape=(X_train.shape[1], X_train.shape[2])))\n",
    "model.add(LSTM(256))\n",
    "model.add(Dense(1))\n",
    "\n",
    "print(model.summary())"
   ]
  },
  {
   "cell_type": "code",
   "execution_count": 8,
   "metadata": {},
   "outputs": [
    {
     "name": "stdout",
     "output_type": "stream",
     "text": [
      "Train on 700 samples, validate on 80 samples\n",
      "Epoch 1/200\n",
      "700/700 [==============================] - 2s 2ms/step - loss: 0.0019 - val_loss: 0.0395\n",
      "Epoch 2/200\n",
      "700/700 [==============================] - 1s 1ms/step - loss: 0.0119 - val_loss: 0.0693\n",
      "Epoch 3/200\n",
      "700/700 [==============================] - 1s 2ms/step - loss: 0.0037 - val_loss: 0.1187\n",
      "Epoch 4/200\n",
      "700/700 [==============================] - 1s 1ms/step - loss: 0.0101 - val_loss: 0.0777\n",
      "Epoch 5/200\n",
      "700/700 [==============================] - 1s 1ms/step - loss: 0.0032 - val_loss: 0.0536\n",
      "Epoch 6/200\n",
      "700/700 [==============================] - 1s 1ms/step - loss: 0.0054 - val_loss: 0.1060\n",
      "Epoch 7/200\n",
      "700/700 [==============================] - 1s 1ms/step - loss: 0.0078 - val_loss: 0.0432\n",
      "Epoch 8/200\n",
      "700/700 [==============================] - 1s 1ms/step - loss: 0.0040 - val_loss: 0.1064\n",
      "Epoch 9/200\n",
      "700/700 [==============================] - 1s 1ms/step - loss: 0.0066 - val_loss: 0.0436\n",
      "Epoch 10/200\n",
      "700/700 [==============================] - 1s 2ms/step - loss: 0.0040 - val_loss: 0.1215\n",
      "Epoch 11/200\n",
      "700/700 [==============================] - 1s 2ms/step - loss: 0.0099 - val_loss: 0.0493\n",
      "Epoch 12/200\n",
      "700/700 [==============================] - 1s 1ms/step - loss: 0.0072 - val_loss: 0.1230\n",
      "Epoch 13/200\n",
      "700/700 [==============================] - 1s 1ms/step - loss: 0.0114 - val_loss: 0.0546\n",
      "Epoch 14/200\n",
      "700/700 [==============================] - 1s 1ms/step - loss: 0.0087 - val_loss: 0.1180\n",
      "Epoch 15/200\n",
      "700/700 [==============================] - 1s 1ms/step - loss: 0.0062 - val_loss: 0.0492\n",
      "Epoch 16/200\n",
      "700/700 [==============================] - 1s 1ms/step - loss: 0.0036 - val_loss: 0.1125\n",
      "Epoch 17/200\n",
      "700/700 [==============================] - 1s 1ms/step - loss: 0.0055 - val_loss: 0.0533\n",
      "Epoch 18/200\n",
      "700/700 [==============================] - 1s 1ms/step - loss: 0.0040 - val_loss: 0.0942\n",
      "Epoch 19/200\n",
      "700/700 [==============================] - 1s 1ms/step - loss: 0.0053 - val_loss: 0.0575\n",
      "Epoch 20/200\n",
      "700/700 [==============================] - 1s 1ms/step - loss: 0.0045 - val_loss: 0.1141\n",
      "Epoch 21/200\n",
      "700/700 [==============================] - 1s 1ms/step - loss: 0.0077 - val_loss: 0.0579\n",
      "Epoch 22/200\n",
      "700/700 [==============================] - 1s 1ms/step - loss: 0.0060 - val_loss: 0.1369\n",
      "Epoch 23/200\n",
      "700/700 [==============================] - 1s 1ms/step - loss: 0.0066 - val_loss: 0.0555\n",
      "Epoch 24/200\n",
      "700/700 [==============================] - 1s 1ms/step - loss: 0.0126 - val_loss: 0.1169\n",
      "Epoch 25/200\n",
      "700/700 [==============================] - 1s 1ms/step - loss: 0.0023 - val_loss: 0.0694\n",
      "Epoch 26/200\n",
      "700/700 [==============================] - 1s 1ms/step - loss: 0.0016 - val_loss: 0.0778\n",
      "Epoch 27/200\n",
      "700/700 [==============================] - 1s 1ms/step - loss: 6.3472e-04 - val_loss: 0.0909\n",
      "Epoch 28/200\n",
      "700/700 [==============================] - 1s 1ms/step - loss: 7.1194e-04 - val_loss: 0.0738\n",
      "Epoch 29/200\n",
      "700/700 [==============================] - 1s 1ms/step - loss: 6.4288e-04 - val_loss: 0.0879\n",
      "Epoch 30/200\n",
      "700/700 [==============================] - 1s 1ms/step - loss: 7.0037e-04 - val_loss: 0.0697\n",
      "Epoch 31/200\n",
      "700/700 [==============================] - 1s 2ms/step - loss: 6.2770e-04 - val_loss: 0.0861\n",
      "Epoch 32/200\n",
      "700/700 [==============================] - 1s 1ms/step - loss: 8.1450e-04 - val_loss: 0.0646\n",
      "Epoch 33/200\n",
      "700/700 [==============================] - 1s 1ms/step - loss: 7.6068e-04 - val_loss: 0.0886\n",
      "Epoch 34/200\n",
      "700/700 [==============================] - 1s 1ms/step - loss: 0.0014 - val_loss: 0.0571\n",
      "Epoch 35/200\n",
      "700/700 [==============================] - 1s 1ms/step - loss: 0.0015 - val_loss: 0.1111\n",
      "Epoch 36/200\n",
      "700/700 [==============================] - 1s 1ms/step - loss: 0.0055 - val_loss: 0.0495\n",
      "Epoch 37/200\n",
      "700/700 [==============================] - 1s 1ms/step - loss: 0.0059 - val_loss: 0.2662\n",
      "Epoch 38/200\n",
      "700/700 [==============================] - 1s 1ms/step - loss: 0.0100 - val_loss: 0.0600\n",
      "Epoch 39/200\n",
      "700/700 [==============================] - 1s 2ms/step - loss: 0.0253 - val_loss: 0.0779\n",
      "Epoch 40/200\n",
      "700/700 [==============================] - 1s 2ms/step - loss: 0.0119 - val_loss: 0.2088\n",
      "Epoch 41/200\n",
      "700/700 [==============================] - 1s 2ms/step - loss: 0.0068 - val_loss: 0.0396\n",
      "Epoch 42/200\n",
      "700/700 [==============================] - 1s 1ms/step - loss: 0.0118 - val_loss: 0.0795\n",
      "Epoch 43/200\n",
      "700/700 [==============================] - 1s 1ms/step - loss: 0.0024 - val_loss: 0.1171\n",
      "Epoch 44/200\n",
      "700/700 [==============================] - 1s 1ms/step - loss: 0.0016 - val_loss: 0.1028\n",
      "Epoch 45/200\n",
      "700/700 [==============================] - 1s 1ms/step - loss: 0.0011 - val_loss: 0.1210\n",
      "Epoch 46/200\n",
      "700/700 [==============================] - 1s 1ms/step - loss: 0.0012 - val_loss: 0.0903\n",
      "Epoch 47/200\n",
      "700/700 [==============================] - 1s 1ms/step - loss: 8.9106e-04 - val_loss: 0.0845\n",
      "Epoch 48/200\n",
      "700/700 [==============================] - 1s 1ms/step - loss: 5.6329e-04 - val_loss: 0.0823\n",
      "Epoch 49/200\n",
      "700/700 [==============================] - 1s 1ms/step - loss: 3.9882e-04 - val_loss: 0.0939\n",
      "Epoch 50/200\n",
      "700/700 [==============================] - 1s 1ms/step - loss: 3.8623e-04 - val_loss: 0.0896\n",
      "Epoch 51/200\n",
      "700/700 [==============================] - 1s 1ms/step - loss: 3.6020e-04 - val_loss: 0.0845\n",
      "Epoch 52/200\n",
      "700/700 [==============================] - 1s 1ms/step - loss: 4.7700e-04 - val_loss: 0.0753\n",
      "Epoch 53/200\n",
      "700/700 [==============================] - 1s 1ms/step - loss: 3.7844e-04 - val_loss: 0.0801\n",
      "Epoch 54/200\n",
      "700/700 [==============================] - 1s 1ms/step - loss: 2.9277e-04 - val_loss: 0.0834\n",
      "Epoch 55/200\n",
      "700/700 [==============================] - 1s 1ms/step - loss: 2.8315e-04 - val_loss: 0.0817\n",
      "Epoch 56/200\n",
      "700/700 [==============================] - 1s 1ms/step - loss: 2.6965e-04 - val_loss: 0.0779\n",
      "Epoch 57/200\n",
      "700/700 [==============================] - 1s 1ms/step - loss: 3.0849e-04 - val_loss: 0.0731\n",
      "Epoch 58/200\n",
      "700/700 [==============================] - 1s 1ms/step - loss: 2.7166e-04 - val_loss: 0.0735\n",
      "Epoch 59/200\n",
      "700/700 [==============================] - 1s 1ms/step - loss: 2.3798e-04 - val_loss: 0.0756\n",
      "Epoch 60/200\n",
      "700/700 [==============================] - 1s 1ms/step - loss: 2.3452e-04 - val_loss: 0.0749\n",
      "Epoch 61/200\n",
      "700/700 [==============================] - 1s 2ms/step - loss: 2.0964e-04 - val_loss: 0.0738\n",
      "Epoch 62/200\n",
      "700/700 [==============================] - 1s 1ms/step - loss: 2.1774e-04 - val_loss: 0.0709\n",
      "Epoch 63/200\n",
      "700/700 [==============================] - 1s 1ms/step - loss: 2.2183e-04 - val_loss: 0.0691\n",
      "Epoch 64/200\n",
      "700/700 [==============================] - 1s 1ms/step - loss: 2.0587e-04 - val_loss: 0.0685\n",
      "Epoch 65/200\n",
      "700/700 [==============================] - 1s 1ms/step - loss: 1.9540e-04 - val_loss: 0.0687\n",
      "Epoch 66/200\n",
      "700/700 [==============================] - 1s 1ms/step - loss: 1.8796e-04 - val_loss: 0.0681\n",
      "Epoch 67/200\n",
      "700/700 [==============================] - 1s 2ms/step - loss: 1.7345e-04 - val_loss: 0.0677\n",
      "Epoch 68/200\n",
      "700/700 [==============================] - 1s 1ms/step - loss: 1.6793e-04 - val_loss: 0.0664\n",
      "Epoch 69/200\n",
      "700/700 [==============================] - 1s 1ms/step - loss: 1.6628e-04 - val_loss: 0.0652\n",
      "Epoch 70/200\n",
      "700/700 [==============================] - 1s 1ms/step - loss: 1.6644e-04 - val_loss: 0.0638\n",
      "Epoch 71/200\n",
      "700/700 [==============================] - 1s 2ms/step - loss: 1.6292e-04 - val_loss: 0.0628\n",
      "Epoch 72/200\n",
      "700/700 [==============================] - 1s 1ms/step - loss: 1.5804e-04 - val_loss: 0.0620\n",
      "Epoch 73/200\n",
      "700/700 [==============================] - 1s 1ms/step - loss: 1.5222e-04 - val_loss: 0.0614\n",
      "Epoch 74/200\n",
      "700/700 [==============================] - 1s 1ms/step - loss: 1.4401e-04 - val_loss: 0.0609\n",
      "Epoch 75/200\n",
      "700/700 [==============================] - 1s 1ms/step - loss: 1.3448e-04 - val_loss: 0.0603\n",
      "Epoch 76/200\n",
      "700/700 [==============================] - 1s 1ms/step - loss: 1.2567e-04 - val_loss: 0.0597\n",
      "Epoch 77/200\n",
      "700/700 [==============================] - 1s 1ms/step - loss: 1.2067e-04 - val_loss: 0.0589\n",
      "Epoch 78/200\n",
      "700/700 [==============================] - 1s 1ms/step - loss: 1.2017e-04 - val_loss: 0.0579\n",
      "Epoch 79/200\n"
     ]
    },
    {
     "name": "stdout",
     "output_type": "stream",
     "text": [
      "700/700 [==============================] - 1s 1ms/step - loss: 1.2162e-04 - val_loss: 0.0568\n",
      "Epoch 80/200\n",
      "700/700 [==============================] - 1s 1ms/step - loss: 1.2317e-04 - val_loss: 0.0556\n",
      "Epoch 81/200\n",
      "700/700 [==============================] - 1s 1ms/step - loss: 1.2423e-04 - val_loss: 0.0544\n",
      "Epoch 82/200\n",
      "700/700 [==============================] - 1s 1ms/step - loss: 1.2342e-04 - val_loss: 0.0534\n",
      "Epoch 83/200\n",
      "700/700 [==============================] - 1s 1ms/step - loss: 1.2166e-04 - val_loss: 0.0526\n",
      "Epoch 84/200\n",
      "700/700 [==============================] - 1s 1ms/step - loss: 1.1583e-04 - val_loss: 0.0519\n",
      "Epoch 85/200\n",
      "700/700 [==============================] - 1s 1ms/step - loss: 1.0589e-04 - val_loss: 0.0515\n",
      "Epoch 86/200\n",
      "700/700 [==============================] - 1s 1ms/step - loss: 9.3380e-05 - val_loss: 0.0511\n",
      "Epoch 87/200\n",
      "700/700 [==============================] - 1s 1ms/step - loss: 8.1911e-05 - val_loss: 0.0508\n",
      "Epoch 88/200\n",
      "700/700 [==============================] - 1s 1ms/step - loss: 7.5488e-05 - val_loss: 0.0504\n",
      "Epoch 89/200\n",
      "700/700 [==============================] - 1s 1ms/step - loss: 7.4552e-05 - val_loss: 0.0501\n",
      "Epoch 90/200\n",
      "700/700 [==============================] - 1s 1ms/step - loss: 7.7690e-05 - val_loss: 0.0497\n",
      "Epoch 91/200\n",
      "700/700 [==============================] - 1s 1ms/step - loss: 8.2959e-05 - val_loss: 0.0492\n",
      "Epoch 92/200\n",
      "700/700 [==============================] - 1s 2ms/step - loss: 9.0386e-05 - val_loss: 0.0483\n",
      "Epoch 93/200\n",
      "700/700 [==============================] - 1s 1ms/step - loss: 1.0030e-04 - val_loss: 0.0472\n",
      "Epoch 94/200\n",
      "700/700 [==============================] - 1s 1ms/step - loss: 1.1329e-04 - val_loss: 0.0456\n",
      "Epoch 95/200\n",
      "700/700 [==============================] - 1s 1ms/step - loss: 1.2870e-04 - val_loss: 0.0435\n",
      "Epoch 96/200\n",
      "700/700 [==============================] - 1s 1ms/step - loss: 1.4250e-04 - val_loss: 0.0414\n",
      "Epoch 97/200\n",
      "700/700 [==============================] - 1s 1ms/step - loss: 1.5599e-04 - val_loss: 0.0395\n",
      "Epoch 98/200\n",
      "700/700 [==============================] - 1s 1ms/step - loss: 1.6914e-04 - val_loss: 0.0386\n",
      "Epoch 99/200\n",
      "700/700 [==============================] - 1s 1ms/step - loss: 1.8139e-04 - val_loss: 0.0380\n",
      "Epoch 100/200\n",
      "700/700 [==============================] - 1s 1ms/step - loss: 1.6948e-04 - val_loss: 0.0372\n",
      "Epoch 101/200\n",
      "700/700 [==============================] - 1s 1ms/step - loss: 1.5299e-04 - val_loss: 0.0372\n",
      "Epoch 102/200\n",
      "700/700 [==============================] - 1s 2ms/step - loss: 1.6665e-04 - val_loss: 0.0375\n",
      "Epoch 103/200\n",
      "700/700 [==============================] - 1s 2ms/step - loss: 2.2548e-04 - val_loss: 0.0427\n",
      "Epoch 104/200\n",
      "700/700 [==============================] - 1s 1ms/step - loss: 2.6208e-04 - val_loss: 0.0387\n",
      "Epoch 105/200\n",
      "700/700 [==============================] - 1s 1ms/step - loss: 6.1223e-04 - val_loss: 0.0896\n",
      "Epoch 106/200\n",
      "700/700 [==============================] - 1s 1ms/step - loss: 0.0028 - val_loss: 0.0568\n",
      "Epoch 107/200\n",
      "700/700 [==============================] - 1s 2ms/step - loss: 0.0060 - val_loss: 0.0540\n",
      "Epoch 108/200\n",
      "700/700 [==============================] - 1s 2ms/step - loss: 0.0036 - val_loss: 0.1947\n",
      "Epoch 109/200\n",
      "700/700 [==============================] - 1s 2ms/step - loss: 0.0072 - val_loss: 0.0288\n",
      "Epoch 110/200\n",
      "700/700 [==============================] - 1s 2ms/step - loss: 0.0159 - val_loss: 0.0348\n",
      "Epoch 111/200\n",
      "700/700 [==============================] - 1s 2ms/step - loss: 0.0113 - val_loss: 0.1773\n",
      "Epoch 112/200\n",
      "700/700 [==============================] - 1s 1ms/step - loss: 0.0086 - val_loss: 0.0493\n",
      "Epoch 113/200\n",
      "700/700 [==============================] - 1s 1ms/step - loss: 0.0133 - val_loss: 0.0762\n",
      "Epoch 114/200\n",
      "700/700 [==============================] - 1s 1ms/step - loss: 0.0038 - val_loss: 0.1461\n",
      "Epoch 115/200\n",
      "700/700 [==============================] - 1s 1ms/step - loss: 0.0064 - val_loss: 0.0766\n",
      "Epoch 116/200\n",
      "700/700 [==============================] - 1s 2ms/step - loss: 0.0062 - val_loss: 0.1315\n",
      "Epoch 117/200\n",
      "700/700 [==============================] - 1s 1ms/step - loss: 0.0243 - val_loss: 0.1687\n",
      "Epoch 118/200\n",
      "700/700 [==============================] - 1s 1ms/step - loss: 0.0042 - val_loss: 0.0595\n",
      "Epoch 119/200\n",
      "700/700 [==============================] - 1s 1ms/step - loss: 0.0012 - val_loss: 0.0563\n",
      "Epoch 120/200\n",
      "700/700 [==============================] - 1s 1ms/step - loss: 9.1105e-04 - val_loss: 0.0593\n",
      "Epoch 121/200\n",
      "700/700 [==============================] - 1s 1ms/step - loss: 0.0012 - val_loss: 0.0546\n",
      "Epoch 122/200\n",
      "700/700 [==============================] - 1s 2ms/step - loss: 0.0020 - val_loss: 0.0797\n",
      "Epoch 123/200\n",
      "700/700 [==============================] - 1s 2ms/step - loss: 0.0104 - val_loss: 0.0990\n",
      "Epoch 124/200\n",
      "700/700 [==============================] - 1s 1ms/step - loss: 0.0042 - val_loss: 0.0918\n",
      "Epoch 125/200\n",
      "700/700 [==============================] - 1s 1ms/step - loss: 0.0141 - val_loss: 0.1185\n",
      "Epoch 126/200\n",
      "700/700 [==============================] - 1s 1ms/step - loss: 0.0039 - val_loss: 0.0616\n",
      "Epoch 127/200\n",
      "700/700 [==============================] - 1s 1ms/step - loss: 0.0013 - val_loss: 0.0504\n",
      "Epoch 128/200\n",
      "700/700 [==============================] - 1s 1ms/step - loss: 0.0022 - val_loss: 0.0743\n",
      "Epoch 129/200\n",
      "700/700 [==============================] - 1s 1ms/step - loss: 0.0072 - val_loss: 0.0795\n",
      "Epoch 130/200\n",
      "700/700 [==============================] - 1s 1ms/step - loss: 0.0038 - val_loss: 0.0729\n",
      "Epoch 131/200\n",
      "700/700 [==============================] - 1s 1ms/step - loss: 0.0076 - val_loss: 0.0868\n",
      "Epoch 132/200\n",
      "700/700 [==============================] - 1s 1ms/step - loss: 0.0031 - val_loss: 0.0596\n",
      "Epoch 133/200\n",
      "700/700 [==============================] - 1s 1ms/step - loss: 0.0038 - val_loss: 0.0673\n",
      "Epoch 134/200\n",
      "700/700 [==============================] - 1s 1ms/step - loss: 0.0025 - val_loss: 0.0588\n",
      "Epoch 135/200\n",
      "700/700 [==============================] - 1s 1ms/step - loss: 0.0036 - val_loss: 0.0684\n",
      "Epoch 136/200\n",
      "700/700 [==============================] - 1s 1ms/step - loss: 0.0022 - val_loss: 0.0566\n",
      "Epoch 137/200\n",
      "700/700 [==============================] - 1s 1ms/step - loss: 0.0029 - val_loss: 0.0646\n",
      "Epoch 138/200\n",
      "700/700 [==============================] - 1s 1ms/step - loss: 0.0019 - val_loss: 0.0554\n",
      "Epoch 139/200\n",
      "700/700 [==============================] - 1s 1ms/step - loss: 0.0025 - val_loss: 0.0624\n",
      "Epoch 140/200\n",
      "700/700 [==============================] - 1s 1ms/step - loss: 0.0017 - val_loss: 0.0547\n",
      "Epoch 141/200\n",
      "700/700 [==============================] - 1s 1ms/step - loss: 0.0024 - val_loss: 0.0611\n",
      "Epoch 142/200\n",
      "700/700 [==============================] - 1s 1ms/step - loss: 0.0017 - val_loss: 0.0544\n",
      "Epoch 143/200\n",
      "700/700 [==============================] - 1s 2ms/step - loss: 0.0023 - val_loss: 0.0605\n",
      "Epoch 144/200\n",
      "700/700 [==============================] - 1s 2ms/step - loss: 0.0017 - val_loss: 0.0542\n",
      "Epoch 145/200\n",
      "700/700 [==============================] - 1s 1ms/step - loss: 0.0023 - val_loss: 0.0599\n",
      "Epoch 146/200\n",
      "700/700 [==============================] - 1s 1ms/step - loss: 0.0017 - val_loss: 0.0539\n",
      "Epoch 147/200\n",
      "700/700 [==============================] - 1s 1ms/step - loss: 0.0024 - val_loss: 0.0594\n",
      "Epoch 148/200\n",
      "700/700 [==============================] - 1s 1ms/step - loss: 0.0017 - val_loss: 0.0534\n",
      "Epoch 149/200\n",
      "700/700 [==============================] - 1s 1ms/step - loss: 0.0024 - val_loss: 0.0588\n",
      "Epoch 150/200\n",
      "700/700 [==============================] - 1s 1ms/step - loss: 0.0017 - val_loss: 0.0529\n",
      "Epoch 151/200\n",
      "700/700 [==============================] - 1s 1ms/step - loss: 0.0024 - val_loss: 0.0582\n",
      "Epoch 152/200\n",
      "700/700 [==============================] - 1s 1ms/step - loss: 0.0017 - val_loss: 0.0524\n",
      "Epoch 153/200\n",
      "700/700 [==============================] - 1s 2ms/step - loss: 0.0023 - val_loss: 0.0575\n",
      "Epoch 154/200\n",
      "700/700 [==============================] - 1s 2ms/step - loss: 0.0017 - val_loss: 0.0519\n",
      "Epoch 155/200\n",
      "700/700 [==============================] - 1s 1ms/step - loss: 0.0023 - val_loss: 0.0569\n",
      "Epoch 156/200\n",
      "700/700 [==============================] - 1s 1ms/step - loss: 0.0017 - val_loss: 0.0513\n",
      "Epoch 157/200\n"
     ]
    },
    {
     "name": "stdout",
     "output_type": "stream",
     "text": [
      "700/700 [==============================] - 1s 1ms/step - loss: 0.0023 - val_loss: 0.0562\n",
      "Epoch 158/200\n",
      "700/700 [==============================] - 1s 1ms/step - loss: 0.0017 - val_loss: 0.0507\n",
      "Epoch 159/200\n",
      "700/700 [==============================] - 1s 1ms/step - loss: 0.0023 - val_loss: 0.0557\n",
      "Epoch 160/200\n",
      "700/700 [==============================] - 1s 1ms/step - loss: 0.0017 - val_loss: 0.0501\n",
      "Epoch 161/200\n",
      "700/700 [==============================] - 1s 1ms/step - loss: 0.0023 - val_loss: 0.0550\n",
      "Epoch 162/200\n",
      "700/700 [==============================] - 1s 1ms/step - loss: 0.0017 - val_loss: 0.0494\n",
      "Epoch 163/200\n",
      "700/700 [==============================] - 1s 1ms/step - loss: 0.0022 - val_loss: 0.0543\n",
      "Epoch 164/200\n",
      "700/700 [==============================] - 1s 1ms/step - loss: 0.0017 - val_loss: 0.0487\n",
      "Epoch 165/200\n",
      "700/700 [==============================] - 1s 1ms/step - loss: 0.0022 - val_loss: 0.0538\n",
      "Epoch 166/200\n",
      "700/700 [==============================] - 1s 1ms/step - loss: 0.0017 - val_loss: 0.0484\n",
      "Epoch 167/200\n",
      "700/700 [==============================] - 1s 1ms/step - loss: 0.0022 - val_loss: 0.0529\n",
      "Epoch 168/200\n",
      "700/700 [==============================] - 1s 1ms/step - loss: 0.0017 - val_loss: 0.0475\n",
      "Epoch 169/200\n",
      "700/700 [==============================] - 1s 1ms/step - loss: 0.0022 - val_loss: 0.0525\n",
      "Epoch 170/200\n",
      "700/700 [==============================] - 1s 1ms/step - loss: 0.0017 - val_loss: 0.0497\n",
      "Epoch 171/200\n",
      "700/700 [==============================] - 1s 1ms/step - loss: 0.0024 - val_loss: 0.0515\n",
      "Epoch 172/200\n",
      "700/700 [==============================] - 1s 1ms/step - loss: 0.0018 - val_loss: 0.0522\n",
      "Epoch 173/200\n",
      "700/700 [==============================] - 1s 1ms/step - loss: 0.0031 - val_loss: 0.0495\n",
      "Epoch 174/200\n",
      "700/700 [==============================] - 1s 2ms/step - loss: 0.0017 - val_loss: 0.0769\n",
      "Epoch 175/200\n",
      "700/700 [==============================] - 1s 2ms/step - loss: 0.0036 - val_loss: 0.0389\n",
      "Epoch 176/200\n",
      "700/700 [==============================] - 1s 1ms/step - loss: 0.0027 - val_loss: 0.1044\n",
      "Epoch 177/200\n",
      "700/700 [==============================] - 1s 1ms/step - loss: 0.0069 - val_loss: 0.0425\n",
      "Epoch 178/200\n",
      "700/700 [==============================] - 1s 1ms/step - loss: 0.0045 - val_loss: 0.1114\n",
      "Epoch 179/200\n",
      "700/700 [==============================] - 1s 1ms/step - loss: 0.0042 - val_loss: 0.0393\n",
      "Epoch 180/200\n",
      "700/700 [==============================] - 1s 1ms/step - loss: 0.0043 - val_loss: 0.0547\n",
      "Epoch 181/200\n",
      "700/700 [==============================] - 1s 1ms/step - loss: 0.0080 - val_loss: 0.0793\n",
      "Epoch 182/200\n",
      "700/700 [==============================] - 1s 1ms/step - loss: 0.0033 - val_loss: 0.0581\n",
      "Epoch 183/200\n",
      "700/700 [==============================] - 1s 1ms/step - loss: 0.0018 - val_loss: 0.0443\n",
      "Epoch 184/200\n",
      "700/700 [==============================] - 1s 2ms/step - loss: 0.0013 - val_loss: 0.0450\n",
      "Epoch 185/200\n",
      "700/700 [==============================] - 1s 2ms/step - loss: 9.4530e-04 - val_loss: 0.0446\n",
      "Epoch 186/200\n",
      "700/700 [==============================] - 1s 1ms/step - loss: 9.0651e-04 - val_loss: 0.0459\n",
      "Epoch 187/200\n",
      "700/700 [==============================] - 1s 1ms/step - loss: 0.0012 - val_loss: 0.0452\n",
      "Epoch 188/200\n",
      "700/700 [==============================] - 1s 1ms/step - loss: 0.0011 - val_loss: 0.0464\n",
      "Epoch 189/200\n",
      "700/700 [==============================] - 1s 1ms/step - loss: 0.0017 - val_loss: 0.0472\n",
      "Epoch 190/200\n",
      "700/700 [==============================] - 1s 2ms/step - loss: 0.0014 - val_loss: 0.0469.0216e\n",
      "Epoch 191/200\n",
      "700/700 [==============================] - 1s 2ms/step - loss: 0.0023 - val_loss: 0.0493\n",
      "Epoch 192/200\n",
      "700/700 [==============================] - 1s 1ms/step - loss: 0.0017 - val_loss: 0.0458\n",
      "Epoch 193/200\n",
      "700/700 [==============================] - 1s 1ms/step - loss: 0.0024 - val_loss: 0.0493\n",
      "Epoch 194/200\n",
      "700/700 [==============================] - 1s 1ms/step - loss: 0.0017 - val_loss: 0.0434\n",
      "Epoch 195/200\n",
      "700/700 [==============================] - 1s 1ms/step - loss: 0.0021 - val_loss: 0.0478\n",
      "Epoch 196/200\n",
      "700/700 [==============================] - 1s 1ms/step - loss: 0.0015 - val_loss: 0.0415\n",
      "Epoch 197/200\n",
      "700/700 [==============================] - 1s 1ms/step - loss: 0.0018 - val_loss: 0.0461\n",
      "Epoch 198/200\n",
      "700/700 [==============================] - 1s 1ms/step - loss: 0.0013 - val_loss: 0.0403\n",
      "Epoch 199/200\n",
      "700/700 [==============================] - 1s 1ms/step - loss: 0.0016 - val_loss: 0.0450\n",
      "Epoch 200/200\n",
      "700/700 [==============================] - 1s 1ms/step - loss: 0.0012 - val_loss: 0.0396\n"
     ]
    }
   ],
   "source": [
    "model.compile(loss='mean_squared_error', optimizer='adam')\n",
    "history = model.fit(X_train, Y_train, epochs=200, batch_size=16, shuffle=False,\n",
    "                    validation_data=(X_test, Y_test))"
   ]
  },
  {
   "cell_type": "code",
   "execution_count": 9,
   "metadata": {},
   "outputs": [
    {
     "data": {
      "text/plain": [
       "<matplotlib.legend.Legend at 0x1c1a631ad0>"
      ]
     },
     "execution_count": 9,
     "metadata": {},
     "output_type": "execute_result"
    },
    {
     "data": {
      "image/png": "[encoded data removed]",
      "text/plain": [
       "<matplotlib.figure.Figure at 0x1c26a16790>"
      ]
     },
     "metadata": {},
     "output_type": "display_data"
    }
   ],
   "source": [
    "plt.figure()\n",
    "plt.xlabel('Epochs')\n",
    "plt.ylabel('Loss')\n",
    "plt.plot(history.history['loss'])\n",
    "plt.plot(history.history['val_loss'])\n",
    "plt.legend(['Training', 'Validation'])"
   ]
  },
  {
   "cell_type": "code",
   "execution_count": 10,
   "metadata": {
    "collapsed": true
   },
   "outputs": [],
   "source": [
    "prediction = model.predict(X_test)"
   ]
  },
  {
   "cell_type": "code",
   "execution_count": 11,
   "metadata": {
    "collapsed": true
   },
   "outputs": [],
   "source": [
    "X_test = X_test.reshape((X_test.shape[0], X_test.shape[2]))\n",
    "Y_test = Y_test.reshape((len(Y_test), 1))"
   ]
  },
  {
   "cell_type": "code",
   "execution_count": 12,
   "metadata": {
    "collapsed": true
   },
   "outputs": [],
   "source": [
    "inv_prediction = np.concatenate((prediction, X_test[:, 1:]), axis=1)\n",
    "inv_prediction = scaler.inverse_transform(inv_prediction)\n",
    "inv_prediction = inv_prediction[:,0]\n",
    "\n",
    "Y_test_inverse = np.concatenate((Y_test, X_test[:, 1:]), axis=1)\n",
    "Y_test_inverse = scaler.inverse_transform(Y_test_inverse)\n",
    "Y_test_inverse = Y_test_inverse[:,0]"
   ]
  },
  {
   "cell_type": "code",
   "execution_count": null,
   "metadata": {
    "collapsed": true
   },
   "outputs": [],
   "source": []
  },
  {
   "cell_type": "code",
   "execution_count": 13,
   "metadata": {},
   "outputs": [
    {
     "data": {
      "text/plain": [
       "<matplotlib.legend.Legend at 0x1c1a5c8bd0>"
      ]
     },
     "execution_count": 13,
     "metadata": {},
     "output_type": "execute_result"
    },
    {
     "data": {
      "image/png": "[encoded data removed]",
      "text/plain": [
       "<matplotlib.figure.Figure at 0x10b04b3d0>"
      ]
     },
     "metadata": {},
     "output_type": "display_data"
    }
   ],
   "source": [
    "plt.figure()\n",
    "plt.xlabel('Date')\n",
    "plt.ylabel('Price')\n",
    "plt.plot(inv_prediction)\n",
    "plt.plot(Y_test_inverse)\n",
    "plt.legend(['Predicted', 'True'])"
   ]
  },
  {
   "cell_type": "code",
   "execution_count": null,
   "metadata": {
    "collapsed": true
   },
   "outputs": [],
   "source": []
  },
  {
   "cell_type": "code",
   "execution_count": null,
   "metadata": {
    "collapsed": true
   },
   "outputs": [],
   "source": []
  }
 ],
 "metadata": {
  "kernelspec": {
   "display_name": "Python 2",
   "language": "python",
   "name": "python2"
  },
  "language_info": {
   "codemirror_mode": {
    "name": "ipython",
    "version": 2
   },
   "file_extension": ".py",
   "mimetype": "text/x-python",
   "name": "python",
   "nbconvert_exporter": "python",
   "pygments_lexer": "ipython2",
   "version": "2.7.14"
  }
 },
 "nbformat": 4,
 "nbformat_minor": 2
}
