{
 "cells": [
  {
   "cell_type": "markdown",
   "metadata": {},
   "source": [
    "# Crypto Analysis EDA\n",
    "by Samuel Venzi Lima Monteiro de Oliveira\n",
    "\n",
    "915635895"
   ]
  },
  {
   "cell_type": "markdown",
   "metadata": {},
   "source": [
    "This code was built using https://activewizards.com/blog/bitcoin-price-forecasting-with-deep-learning-algorithms/ as guideline."
   ]
  },
  {
   "cell_type": "code",
   "execution_count": 1,
   "metadata": {},
   "outputs": [
    {
     "data": {
      "text/html": [
       "<div>\n",
       "<style>\n",
       "    .dataframe thead tr:only-child th {\n",
       "        text-align: right;\n",
       "    }\n",
       "\n",
       "    .dataframe thead th {\n",
       "        text-align: left;\n",
       "    }\n",
       "\n",
       "    .dataframe tbody tr th {\n",
       "        vertical-align: top;\n",
       "    }\n",
       "</style>\n",
       "<table border=\"1\" class=\"dataframe\">\n",
       "  <thead>\n",
       "    <tr style=\"text-align: right;\">\n",
       "      <th></th>\n",
       "      <th>Date</th>\n",
       "      <th>btc_market_price</th>\n",
       "      <th>btc_total_bitcoins</th>\n",
       "      <th>btc_market_cap</th>\n",
       "      <th>btc_trade_volume</th>\n",
       "      <th>btc_blocks_size</th>\n",
       "      <th>btc_avg_block_size</th>\n",
       "      <th>btc_n_orphaned_blocks</th>\n",
       "      <th>btc_n_transactions_per_block</th>\n",
       "      <th>btc_median_confirmation_time</th>\n",
       "      <th>...</th>\n",
       "      <th>btc_n_unique_addresses</th>\n",
       "      <th>btc_n_transactions</th>\n",
       "      <th>btc_n_transactions_total</th>\n",
       "      <th>btc_n_transactions_excluding_popular</th>\n",
       "      <th>btc_n_transactions_excluding_chains_longer_than_100</th>\n",
       "      <th>btc_output_volume</th>\n",
       "      <th>btc_estimated_transaction_volume</th>\n",
       "      <th>btc_estimated_transaction_volume_usd</th>\n",
       "      <th>Year</th>\n",
       "      <th>Month</th>\n",
       "    </tr>\n",
       "  </thead>\n",
       "  <tbody>\n",
       "    <tr>\n",
       "      <th>2139</th>\n",
       "      <td>2016-01-02</td>\n",
       "      <td>433.94</td>\n",
       "      <td>15035400.0</td>\n",
       "      <td>6.524461e+09</td>\n",
       "      <td>1.506949e+07</td>\n",
       "      <td>53789.0</td>\n",
       "      <td>0.578475</td>\n",
       "      <td>1.0</td>\n",
       "      <td>1235.0</td>\n",
       "      <td>10.033333</td>\n",
       "      <td>...</td>\n",
       "      <td>334703.0</td>\n",
       "      <td>142904.0</td>\n",
       "      <td>101390828.0</td>\n",
       "      <td>138136.0</td>\n",
       "      <td>85567.0</td>\n",
       "      <td>1.014427e+06</td>\n",
       "      <td>105790.0</td>\n",
       "      <td>45906482.0</td>\n",
       "      <td>2016</td>\n",
       "      <td>1</td>\n",
       "    </tr>\n",
       "    <tr>\n",
       "      <th>2140</th>\n",
       "      <td>2016-01-03</td>\n",
       "      <td>428.13</td>\n",
       "      <td>15039125.0</td>\n",
       "      <td>6.438701e+09</td>\n",
       "      <td>2.332215e+07</td>\n",
       "      <td>53867.0</td>\n",
       "      <td>0.525740</td>\n",
       "      <td>1.0</td>\n",
       "      <td>1085.0</td>\n",
       "      <td>7.133333</td>\n",
       "      <td>...</td>\n",
       "      <td>295177.0</td>\n",
       "      <td>141064.0</td>\n",
       "      <td>101531892.0</td>\n",
       "      <td>136272.0</td>\n",
       "      <td>83682.0</td>\n",
       "      <td>8.916837e+05</td>\n",
       "      <td>121051.0</td>\n",
       "      <td>51825525.0</td>\n",
       "      <td>2016</td>\n",
       "      <td>1</td>\n",
       "    </tr>\n",
       "    <tr>\n",
       "      <th>2141</th>\n",
       "      <td>2016-01-04</td>\n",
       "      <td>433.00</td>\n",
       "      <td>15043500.0</td>\n",
       "      <td>6.513836e+09</td>\n",
       "      <td>2.194946e+07</td>\n",
       "      <td>53962.0</td>\n",
       "      <td>0.545497</td>\n",
       "      <td>1.0</td>\n",
       "      <td>1121.0</td>\n",
       "      <td>6.383333</td>\n",
       "      <td>...</td>\n",
       "      <td>363742.0</td>\n",
       "      <td>170176.0</td>\n",
       "      <td>101702068.0</td>\n",
       "      <td>165476.0</td>\n",
       "      <td>96236.0</td>\n",
       "      <td>1.016359e+06</td>\n",
       "      <td>187554.0</td>\n",
       "      <td>81211038.0</td>\n",
       "      <td>2016</td>\n",
       "      <td>1</td>\n",
       "    </tr>\n",
       "  </tbody>\n",
       "</table>\n",
       "<p>3 rows × 26 columns</p>\n",
       "</div>"
      ],
      "text/plain": [
       "           Date  btc_market_price  btc_total_bitcoins  btc_market_cap  \\\n",
       "2139 2016-01-02            433.94          15035400.0    6.524461e+09   \n",
       "2140 2016-01-03            428.13          15039125.0    6.438701e+09   \n",
       "2141 2016-01-04            433.00          15043500.0    6.513836e+09   \n",
       "\n",
       "      btc_trade_volume  btc_blocks_size  btc_avg_block_size  \\\n",
       "2139      1.506949e+07          53789.0            0.578475   \n",
       "2140      2.332215e+07          53867.0            0.525740   \n",
       "2141      2.194946e+07          53962.0            0.545497   \n",
       "\n",
       "      btc_n_orphaned_blocks  btc_n_transactions_per_block  \\\n",
       "2139                    1.0                        1235.0   \n",
       "2140                    1.0                        1085.0   \n",
       "2141                    1.0                        1121.0   \n",
       "\n",
       "      btc_median_confirmation_time  ...    btc_n_unique_addresses  \\\n",
       "2139                     10.033333  ...                  334703.0   \n",
       "2140                      7.133333  ...                  295177.0   \n",
       "2141                      6.383333  ...                  363742.0   \n",
       "\n",
       "      btc_n_transactions  btc_n_transactions_total  \\\n",
       "2139            142904.0               101390828.0   \n",
       "2140            141064.0               101531892.0   \n",
       "2141            170176.0               101702068.0   \n",
       "\n",
       "      btc_n_transactions_excluding_popular  \\\n",
       "2139                              138136.0   \n",
       "2140                              136272.0   \n",
       "2141                              165476.0   \n",
       "\n",
       "      btc_n_transactions_excluding_chains_longer_than_100  btc_output_volume  \\\n",
       "2139                                            85567.0         1.014427e+06   \n",
       "2140                                            83682.0         8.916837e+05   \n",
       "2141                                            96236.0         1.016359e+06   \n",
       "\n",
       "      btc_estimated_transaction_volume  btc_estimated_transaction_volume_usd  \\\n",
       "2139                          105790.0                            45906482.0   \n",
       "2140                          121051.0                            51825525.0   \n",
       "2141                          187554.0                            81211038.0   \n",
       "\n",
       "      Year  Month  \n",
       "2139  2016      1  \n",
       "2140  2016      1  \n",
       "2141  2016      1  \n",
       "\n",
       "[3 rows x 26 columns]"
      ]
     },
     "execution_count": 1,
     "metadata": {},
     "output_type": "execute_result"
    }
   ],
   "source": [
    "import pandas as pd\n",
    "import numpy as np\n",
    "import matplotlib.pyplot as plt\n",
    "from datetime import datetime\n",
    "\n",
    "bitcoin_data = pd.read_csv('cryptocurrencypricehistory/bitcoin_dataset.csv', header = 0, parse_dates=['Date'])\n",
    "bitcoin_data['Year'] = bitcoin_data['Date'].apply(lambda x: x.year)\n",
    "bitcoin_data['Month'] = bitcoin_data['Date'].apply(lambda x: x.month)\n",
    "bitcoin_data = bitcoin_data.loc[bitcoin_data['Date'] > datetime(2016,1,1)]\n",
    "bitcoin_data.head(3)"
   ]
  },
  {
   "cell_type": "code",
   "execution_count": 2,
   "metadata": {},
   "outputs": [
    {
     "name": "stderr",
     "output_type": "stream",
     "text": [
      "Using TensorFlow backend.\n"
     ]
    }
   ],
   "source": [
    "import warnings\n",
    "warnings.filterwarnings(\"ignore\")\n",
    "\n",
    "import numpy as np\n",
    "import pandas as pd\n",
    "import statsmodels.api as sm\n",
    "from scipy import stats\n",
    "from sklearn.metrics import mean_squared_error\n",
    "from math import sqrt\n",
    "from random import randint\n",
    "from keras.models import Sequential\n",
    "from keras.layers import Dense\n",
    "from keras.layers import LSTM\n",
    "from keras.layers import GRU\n",
    "from keras.callbacks import EarlyStopping\n",
    "from keras import initializers\n",
    "from matplotlib import pyplot\n",
    "from datetime import datetime\n",
    "from matplotlib import pyplot as plt\n",
    "\n",
    "%matplotlib inline"
   ]
  },
  {
   "cell_type": "code",
   "execution_count": 3,
   "metadata": {
    "collapsed": true
   },
   "outputs": [],
   "source": [
    "daily_price = bitcoin_data[['Date', 'btc_market_price']]\n",
    "daily_price = daily_price.set_index('Date')\n",
    "df_train = daily_price[0:700]\n",
    "df_test = daily_price[700:780]"
   ]
  },
  {
   "cell_type": "code",
   "execution_count": 5,
   "metadata": {
    "collapsed": true
   },
   "outputs": [],
   "source": [
    "def create_lookback(dataset, look_back=1):\n",
    "    X, Y = [], []\n",
    "    for i in range(len(dataset) - look_back):\n",
    "        a = dataset[i:(i + look_back), 0]\n",
    "        X.append(a)\n",
    "        Y.append(dataset[i + look_back, 0])\n",
    "    return np.array(X), np.array(Y)"
   ]
  },
  {
   "cell_type": "code",
   "execution_count": 6,
   "metadata": {
    "collapsed": true
   },
   "outputs": [],
   "source": [
    "from sklearn.preprocessing import MinMaxScaler\n",
    "\n",
    "training_set = df_train.values\n",
    "training_set = np.reshape(training_set, (len(training_set), 1))\n",
    "test_set = df_test.values\n",
    "test_set = np.reshape(test_set, (len(test_set), 1))\n",
    "\n",
    "scaler = MinMaxScaler()\n",
    "training_set = scaler.fit_transform(training_set)\n",
    "test_set = scaler.transform(test_set)\n",
    "\n",
    "look_back = 1\n",
    "X_train, Y_train = create_lookback(training_set, look_back)\n",
    "X_test, Y_test = create_lookback(test_set, look_back)\n",
    "\n",
    "X_train = np.reshape(X_train, (len(X_train), 1, X_train.shape[1]))\n",
    "X_test = np.reshape(X_test, (len(X_test), 1, X_test.shape[1]))"
   ]
  },
  {
   "cell_type": "code",
   "execution_count": 13,
   "metadata": {},
   "outputs": [
    {
     "name": "stdout",
     "output_type": "stream",
     "text": [
      "(699,)\n"
     ]
    }
   ],
   "source": [
    "print Y_train.shape"
   ]
  },
  {
   "cell_type": "code",
   "execution_count": 9,
   "metadata": {},
   "outputs": [
    {
     "name": "stdout",
     "output_type": "stream",
     "text": [
      "_________________________________________________________________\n",
      "Layer (type)                 Output Shape              Param #   \n",
      "=================================================================\n",
      "lstm_1 (LSTM)                (None, 1, 256)            264192    \n",
      "_________________________________________________________________\n",
      "lstm_2 (LSTM)                (None, 256)               525312    \n",
      "_________________________________________________________________\n",
      "dense_1 (Dense)              (None, 1)                 257       \n",
      "=================================================================\n",
      "Total params: 789,761\n",
      "Trainable params: 789,761\n",
      "Non-trainable params: 0\n",
      "_________________________________________________________________\n",
      "None\n",
      "Train on 699 samples, validate on 79 samples\n",
      "Epoch 1/100\n",
      "699/699 [==============================] - 1s 2ms/step - loss: 0.0045 - val_loss: 0.2101\n",
      "Epoch 2/100\n",
      "699/699 [==============================] - 1s 1ms/step - loss: 0.0530 - val_loss: 0.4628\n",
      "Epoch 3/100\n",
      "699/699 [==============================] - 1s 1ms/step - loss: 0.0079 - val_loss: 0.0146\n",
      "Epoch 4/100\n",
      "699/699 [==============================] - 1s 1ms/step - loss: 0.0014 - val_loss: 0.0427\n",
      "Epoch 5/100\n",
      "699/699 [==============================] - 1s 1ms/step - loss: 0.0011 - val_loss: 0.0087\n",
      "Epoch 6/100\n",
      "699/699 [==============================] - 1s 1ms/step - loss: 9.1256e-04 - val_loss: 0.0241\n",
      "Epoch 7/100\n",
      "699/699 [==============================] - 1s 1ms/step - loss: 3.3962e-04 - val_loss: 0.0092\n",
      "Epoch 8/100\n",
      "699/699 [==============================] - 1s 2ms/step - loss: 5.8057e-04 - val_loss: 0.0192\n",
      "Epoch 9/100\n",
      "699/699 [==============================] - 1s 2ms/step - loss: 2.9088e-04 - val_loss: 0.0097\n",
      "Epoch 10/100\n",
      "699/699 [==============================] - 1s 2ms/step - loss: 5.6591e-04 - val_loss: 0.0173\n",
      "Epoch 11/100\n",
      "699/699 [==============================] - 1s 2ms/step - loss: 2.9991e-04 - val_loss: 0.0100\n",
      "Epoch 12/100\n",
      "699/699 [==============================] - 1s 2ms/step - loss: 5.8990e-04 - val_loss: 0.0164\n",
      "Epoch 13/100\n",
      "699/699 [==============================] - 1s 2ms/step - loss: 3.0562e-04 - val_loss: 0.0108\n",
      "Epoch 14/100\n",
      "699/699 [==============================] - 1s 2ms/step - loss: 5.6982e-04 - val_loss: 0.0158\n",
      "Epoch 15/100\n",
      "699/699 [==============================] - 1s 2ms/step - loss: 2.6985e-04 - val_loss: 0.0118\n",
      "Epoch 16/100\n",
      "699/699 [==============================] - 1s 2ms/step - loss: 4.7213e-04 - val_loss: 0.0152\n",
      "Epoch 17/100\n",
      "699/699 [==============================] - 1s 1ms/step - loss: 1.9047e-04 - val_loss: 0.0127\n",
      "Epoch 18/100\n",
      "699/699 [==============================] - 1s 1ms/step - loss: 3.2183e-04 - val_loss: 0.0142\n",
      "Epoch 19/100\n",
      "699/699 [==============================] - 1s 2ms/step - loss: 1.2476e-04 - val_loss: 0.0131\n",
      "Epoch 20/100\n",
      "699/699 [==============================] - 1s 1ms/step - loss: 1.9323e-04 - val_loss: 0.0134\n",
      "Epoch 21/100\n",
      "699/699 [==============================] - 1s 1ms/step - loss: 1.2105e-04 - val_loss: 0.0133\n",
      "Epoch 22/100\n",
      "699/699 [==============================] - 1s 1ms/step - loss: 1.3716e-04 - val_loss: 0.0130\n",
      "Epoch 23/100\n",
      "699/699 [==============================] - 1s 2ms/step - loss: 1.3512e-04 - val_loss: 0.0131\n",
      "Epoch 24/100\n",
      "699/699 [==============================] - 1s 2ms/step - loss: 1.2780e-04 - val_loss: 0.01295e\n",
      "Epoch 25/100\n",
      "699/699 [==============================] - 1s 2ms/step - loss: 1.3184e-04 - val_loss: 0.0128\n",
      "Epoch 00025: early stopping\n"
     ]
    }
   ],
   "source": [
    "model = Sequential()\n",
    "model.add(LSTM(256, return_sequences=True, input_shape=(X_train.shape[1], X_train.shape[2])))\n",
    "model.add(LSTM(256))\n",
    "model.add(Dense(1))\n",
    "\n",
    "print(model.summary())\n",
    "\n",
    "model.compile(loss='mean_squared_error', optimizer='adam')\n",
    "history = model.fit(X_train, Y_train, epochs=100, batch_size=16, shuffle=False,\n",
    "                    validation_data=(X_test, Y_test),\n",
    "                    callbacks = [EarlyStopping(monitor='val_loss', min_delta=5e-5, patience=20, verbose=1)])"
   ]
  },
  {
   "cell_type": "code",
   "execution_count": 10,
   "metadata": {},
   "outputs": [
    {
     "data": {
      "text/plain": [
       "<matplotlib.legend.Legend at 0x110007810>"
      ]
     },
     "execution_count": 10,
     "metadata": {},
     "output_type": "execute_result"
    },
    {
     "data": {
      "image/png": "[encoded data removed]",
      "text/plain": [
       "<matplotlib.figure.Figure at 0x1c1b71acd0>"
      ]
     },
     "metadata": {},
     "output_type": "display_data"
    }
   ],
   "source": [
    "plt.figure()\n",
    "plt.xlabel('Epochs')\n",
    "plt.ylabel('Loss')\n",
    "plt.plot(history.history['loss'])\n",
    "plt.plot(history.history['val_loss'])\n",
    "plt.legend(['Training', 'Validation'])"
   ]
  },
  {
   "cell_type": "code",
   "execution_count": 11,
   "metadata": {
    "collapsed": true
   },
   "outputs": [],
   "source": [
    "prediction = model.predict(X_test)\n",
    "prediction_inverse = scaler.inverse_transform(prediction.reshape(-1, 1))\n",
    "Y_test_inverse = scaler.inverse_transform(Y_test.reshape(-1, 1))\n",
    "prediction2_inverse = np.array(prediction_inverse[:,0][1:])\n",
    "Y_test2_inverse = np.array(Y_test_inverse[:,0])"
   ]
  },
  {
   "cell_type": "code",
   "execution_count": null,
   "metadata": {
    "collapsed": true
   },
   "outputs": [],
   "source": []
  },
  {
   "cell_type": "code",
   "execution_count": 12,
   "metadata": {},
   "outputs": [
    {
     "data": {
      "text/plain": [
       "<matplotlib.legend.Legend at 0x10fe807d0>"
      ]
     },
     "execution_count": 12,
     "metadata": {},
     "output_type": "execute_result"
    },
    {
     "data": {
      "image/png": "[encoded data removed]",
      "text/plain": [
       "<matplotlib.figure.Figure at 0x10ff5b8d0>"
      ]
     },
     "metadata": {},
     "output_type": "display_data"
    }
   ],
   "source": [
    "plt.figure()\n",
    "plt.xlabel('Date')\n",
    "plt.ylabel('Price')\n",
    "plt.plot(prediction2_inverse)\n",
    "plt.plot(Y_test2_inverse)\n",
    "plt.legend(['Predicted', 'True'])"
   ]
  },
  {
   "cell_type": "code",
   "execution_count": null,
   "metadata": {
    "collapsed": true
   },
   "outputs": [],
   "source": []
  },
  {
   "cell_type": "code",
   "execution_count": null,
   "metadata": {
    "collapsed": true
   },
   "outputs": [],
   "source": []
  }
 ],
 "metadata": {
  "kernelspec": {
   "display_name": "Python 2",
   "language": "python",
   "name": "python2"
  },
  "language_info": {
   "codemirror_mode": {
    "name": "ipython",
    "version": 2
   },
   "file_extension": ".py",
   "mimetype": "text/x-python",
   "name": "python",
   "nbconvert_exporter": "python",
   "pygments_lexer": "ipython2",
   "version": "2.7.14"
  }
 },
 "nbformat": 4,
 "nbformat_minor": 2
}
