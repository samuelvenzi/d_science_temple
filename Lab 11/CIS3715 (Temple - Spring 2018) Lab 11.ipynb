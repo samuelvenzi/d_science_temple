{
 "cells": [
  {
   "cell_type": "markdown",
   "metadata": {},
   "source": [
    "# Lab 11\n",
    "\n",
    "This lab will be a warm-up for your course project. You are asked to identify an indetersing data set and perform data collection and cleaning, exploratory data analysis, and supervised learning. You should produce a 3-page report explaining the data, what kind of analysis you performed, and showing and dicussing the main results.\n",
    "\n",
    "**Data Selection.** For this assignment, you are not allowed to use any of the data sets you used in the previous assignments. The following is a list of pointers to interesting data sets. Please explore those links and see if there is anything that captures your imagination. You should also feel free to use Google search and find some other sources of data. You should also feel free to crawl data from internet of from deep web. Some pointers:\n",
    "- Kaggle data sets: https://www.kaggle.com/datasets\n",
    "- UCI Irvine Data Repository: http://archive.ics.uci.edu/ml/, http://kdd.ics.uci.edu/\n",
    "- Links from Wikipedia: https://en.wikipedia.org/wiki/List_of_datasets_for_machine_learning_research\n",
    "- More links: https://www.dataquest.io/blog/free-datasets-for-projects/\n",
    "- More links: http://www.kdnuggets.com/datasets/index.html\n",
    "- More links: https://blog.bigml.com/list-of-public-data-sources-fit-for-machine-learning/\n",
    "- More links: https://www.analyticsvidhya.com/blog/2016/11/25-websites-to-find-datasets-for-data-science-projects/\n",
    "\n",
    "**Data Analysis objective**. Regardless of which data set you select, you will have to perform exploratory data analysis (EDA) to get a deep insight into the data properties and also train a predictor for either classification or regression (it is up to you to decide what exactly you want to predict). It is up to you do decide how to perform EDA and how to define your supervised learning problem.\n",
    "\n",
    "**Deliverables**: \n",
    "1. the ipynb file containing all the code you used to produce your results\n",
    "2. A 3 page report containing the following:\n",
    " - Title and your name\n",
    " - Introduction: Explain in a few paragraphs why you selected your data set and what are your data analysis objectives\n",
    " - Methodology: Explain in detail what kind of EDA analysis you performed on your data. Explain the details of your supervised learning experiment (how you processed the data, what are the attributes, what kind of prediction model you used, and how did you evaluate its accuracy)\n",
    " - Results: a summary of your EDA results (show at least a few figures/tables providing a data insight, provide discussion of your insights) and a summary of your supervised learning results (explain the choice of hyperparameters, show the accuracies for different choices of hyperparameters and learning algorithms, and discuss how happy you are with the results)\n",
    " - Conclusion: a few sentences summarizing your study\n",
    " - References and Acknowledgements: pointers to any web source you used to finisch your assignment and acknowledging any help you obtained \n",
    "\n",
    "**Grading**. To get 100 points, you will have to provide a nicely commented code and a well-written report reflecting that you put a decent effort in this assignment (an equivalent of 6-10 hours of work). In this project, you can earn up to 100 EXTRA POINTS if you put a special effort, by selecting a challenging or large data set that required extra effort in data collection, data cleaning, data preprocessing, EDA, supervised learning, or if your project report and documentation is particularly well done."
   ]
  },
  {
   "cell_type": "code",
   "execution_count": null,
   "metadata": {
    "collapsed": true
   },
   "outputs": [],
   "source": []
  }
 ],
 "metadata": {
  "anaconda-cloud": {},
  "kernelspec": {
   "display_name": "Python 2",
   "language": "python",
   "name": "python2"
  },
  "language_info": {
   "codemirror_mode": {
    "name": "ipython",
    "version": 2
   },
   "file_extension": ".py",
   "mimetype": "text/x-python",
   "name": "python",
   "nbconvert_exporter": "python",
   "pygments_lexer": "ipython2",
   "version": "2.7.14"
  }
 },
 "nbformat": 4,
 "nbformat_minor": 1
}
